{
 "cells": [
  {
   "cell_type": "markdown",
   "metadata": {},
   "source": [
    "# Data Processing"
   ]
  },
  {
   "cell_type": "code",
   "execution_count": 1,
   "metadata": {},
   "outputs": [],
   "source": [
    "# Importing requried libraries and modules\n",
    "import pandas as pd"
   ]
  },
  {
   "cell_type": "code",
   "execution_count": 2,
   "metadata": {},
   "outputs": [],
   "source": [
    "processed_data = pd.read_csv('../data/built/track_features.csv')"
   ]
  },
  {
   "cell_type": "markdown",
   "metadata": {},
   "source": [
    "## Cleaning release_date"
   ]
  },
  {
   "cell_type": "code",
   "execution_count": 3,
   "metadata": {},
   "outputs": [],
   "source": [
    "processed_data.drop(processed_data[processed_data.release_date == '0000'].index, inplace=True)"
   ]
  },
  {
   "cell_type": "code",
   "execution_count": 4,
   "metadata": {},
   "outputs": [],
   "source": [
    "def get_correct_format(date_str, precision):\n",
    "    if precision == 'year':\n",
    "        return f'{date_str}-01-01'\n",
    "    elif precision == 'month':\n",
    "        return f'{date_str}-01'\n",
    "    else:\n",
    "        return date_str\n",
    "\n",
    "processed_data['release_date'] = processed_data.apply(lambda x: get_correct_format(x['release_date'], x['release_date_precision']), axis=1)\n",
    "processed_data['release_date'] = processed_data.release_date.apply(lambda x: pd.to_datetime(x))"
   ]
  },
  {
   "cell_type": "markdown",
   "metadata": {},
   "source": [
    "### Creating target feature"
   ]
  },
  {
   "cell_type": "code",
   "execution_count": 5,
   "metadata": {},
   "outputs": [],
   "source": [
    "hit_mean_popularity = round(processed_data[processed_data.target == 1].popularities.mean())\n",
    "processed_data['popularities'] = processed_data.apply(lambda x: hit_mean_popularity if (x['target'] == 1 and x['popularities'] == 0) else x['popularities'], axis=1)\n",
    "processed_data = processed_data[processed_data.popularities != 0]"
   ]
  },
  {
   "cell_type": "code",
   "execution_count": 6,
   "metadata": {},
   "outputs": [],
   "source": [
    "processed_data['target_popularity'] = processed_data.popularities.apply(lambda x: 1 if x > 45 else 0)"
   ]
  },
  {
   "cell_type": "code",
   "execution_count": 7,
   "metadata": {},
   "outputs": [],
   "source": [
    "processed_data.to_csv('../data/processed/cleaned_data.csv', index=False)"
   ]
  }
 ],
 "metadata": {
  "kernelspec": {
   "display_name": "songsavvy",
   "language": "python",
   "name": "python3"
  },
  "language_info": {
   "codemirror_mode": {
    "name": "ipython",
    "version": 3
   },
   "file_extension": ".py",
   "mimetype": "text/x-python",
   "name": "python",
   "nbconvert_exporter": "python",
   "pygments_lexer": "ipython3",
   "version": "3.12.2"
  }
 },
 "nbformat": 4,
 "nbformat_minor": 2
}
